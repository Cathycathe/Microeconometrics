{
 "cells": [
  {
   "cell_type": "markdown",
   "metadata": {},
   "source": [
    "# Estimating Firm-Entry under Discrete Game Framework with Python"
   ]
  },
  {
   "cell_type": "markdown",
   "metadata": {},
   "source": [
    "## 1. Introduction\n",
    "\n",
    "Marketing concerns understanding, predicting, and influencing various agents' choices, for example for firms, they need to figure out what to sell, how much to charge, when to introduce new products, etc.\n",
    "\n",
    "Discrete game is a generalization of a standard discrete model where utility depends not only on the player himself but also on the actions of other players. The decisions involve strategic interactions and they are NOT made in a vacuum.\n",
    "\n",
    "To find the payoff function or utility function from the firms entry decisions, the structure of the game depends on what’s being modelled, for example:\n",
    "- Decision set may be discrete or continuous, thus the game model could be either discrete or continuous as well.\n",
    "- Every information may be observed by the players, or these players make decisions with uncertainty, thus the game model could be either under complete or incomplete information framework.\n",
    "- This game may be a one-shot game, or it may continue for many periods, therefore we need to decide whether to build a model of repeted game and include the discount rate.\n",
    "\n",
    "As for this simulation, I focus on a static, discrete game with complete information."
   ]
  },
  {
   "cell_type": "markdown",
   "metadata": {},
   "source": [
    "## 2. Simulation\n",
    "\n",
    "### 2.1 The Model\n",
    "\n",
    "To illustrate the static, discrete firm-entry game with complete information, I first make several assumptions as follows: \n",
    "\n",
    "- Suppose ﬁrm 1, 2 and 3 compete in many local markets. Like the models of Ellicken and Misra (2011), Zhaokun Zhang and Zhesheng Zheng (2019).\n",
    "\n",
    "- Each ﬁrm chooses either “enter” or “not enter”. \n",
    "\n",
    "- Each ﬁrm can only open at most one store in one market. \n",
    "\n",
    "With python, I made a simulate and generate m = 5000 small and isolated local markets. In this process, I futher assume that:\n",
    "\n",
    "- $X_{m}$ is a measure of market characteristics and it's the same for all 3 ﬁrms.\n",
    "- $Z_{im}$ represents ﬁrm i's characteristics that are unique to this firm. Moreover, one firm's character doesn't influence other firms' profit.\n",
    "- $y_{−im}$ is the action of its rivals, $y_{−im}$ = 1 if one of the rival firms decide to enter; $y_{−im}$ = 2 if both rival firms decide to enter; $y_{−im}$ = 0 if none of the rival firms decide to enter.\n",
    "- $\\delta$ captures the degree of compatitiviness within one market.\n",
    "- $\\epsilon_{i}$ is a component of profits the firm i sees but we don’t. (In this complete information model, we assume not only firm i knows $\\epsilon_{i}$, the other two firms also observe $\\epsilon_{i}$, i.e., the researcher cannot get the information of $\\epsilon_{1,2,3}$, yet all 3 firms WILL consider $\\epsilon$ when they make choices about whether to enter.)\n",
    "\n",
    "Therefore, the profit function of firm i in market m is:\n",
    "\\begin{equation}\n",
    "\\pi_{i m}=\\alpha_{i}^{\\prime} X_{m}+\\beta_{i}^{\\prime} Z_{i m}+\\delta y_{-i m}+\\varepsilon_{i m}\n",
    "\\end{equation}"
   ]
  },
  {
   "cell_type": "markdown",
   "metadata": {},
   "source": [
    "In this model, I assume the true value of parameters $(alpha1,~alpha2,~alpha3,~ beta1,~beta2,~beta3,~delta,~Scale)$ are $(2,1,0, 2,2,0.7, -2, 1)$ correspondingly. Thus, expected proﬁt is a function of the market characteristics, the ﬁrm’s characteristics, and its rivals’ decisions."
   ]
  },
  {
   "cell_type": "markdown",
   "metadata": {},
   "source": [
    "### 2.2 Equilibrium\n",
    "In equilibrium, firms maximize profits, taking rivals' actions as given. Therefore, a Nash equilibrium is characterized by:\n",
    "\\begin{equation}\n",
    "\\begin{aligned} y_{1m} &=1\\left[\\alpha_{1}^{\\prime} X_{m}+\\beta_{1}^{\\prime} Z_{1m}+\\delta y_{-1m}+\\varepsilon_{1m} \\geq 0\\right] \\\\ y_{2m} &=1\\left[\\alpha_{2}^{\\prime} X_{m}+\\beta_{2}^{\\prime} Z_{2m}+\\delta y_{-2m}+\\varepsilon_{2m} \\geq 0\\right] \\\\ y_{3m} &=1\\left[\\alpha_{3}^{\\prime} X_{m}+\\beta_{3}^{\\prime} Z_{3m}+\\delta y_{-3m}+\\varepsilon_{3m} \\geq 0\\right] \\end{aligned}\n",
    "\\end{equation}"
   ]
  },
  {
   "cell_type": "markdown",
   "metadata": {},
   "source": [
    "The likelihood of observing $n_{m}$ firms in a given market m can be computed in closed form:\n",
    "\\begin{equation}\n",
    "\\begin{array}{l}{\\operatorname{Pr}\\left(n_{m}=3\\right)=\\prod_{i} \\operatorname{Pr}\\left(\\alpha_{i}^{\\prime} X_{m} + \\beta_{i}^{\\prime} Z_{im}-\\delta y_{-i m}+\\varepsilon_{i m} \\geq 0\\right)} \\\\ {\\operatorname{Pr}\\left(n_{m}=0\\right)=\\prod_{i} \\operatorname{Pr}\\left(\\alpha_{i}^{\\prime} X_{m}+ \\beta_{i}^{\\prime} Z_{im}-\\delta y_{-i m}+\\varepsilon_{i m}<0\\right)} \\\\ {\\operatorname{Pr}\\left(n_{m}=2\\right)=\\sum_{i}\\left[\\left(\\prod_{j \\neq i} \\operatorname{Pr}\\left(\\alpha_{j}^{\\prime} X_{m}+ \\beta_{j}^{\\prime} Z_{jm}-\\delta y_{-j m}+\\varepsilon_{j m} \\geq 0\\right)\\right) \\cdot \\operatorname{Pr}\\left(\\alpha_{i}^{\\prime} X_{m}+ \\beta_{i}^{\\prime} Z_{im}-\\delta_{-i m}+\\varepsilon_{i m}<0\\right)\\right]} \\\\ {\\operatorname{Pr}\\left(n_{m}=1\\right)=1-\\operatorname{Pr}\\left(n_{m}=3\\right)-\\operatorname{Pr}\\left(n_{m}=0\\right) - \\operatorname{Pr}\\left(n_{m}=1\\right)}\\end{array}\n",
    "\\end{equation}"
   ]
  },
  {
   "cell_type": "markdown",
   "metadata": {},
   "source": [
    "The sample log-likelihood is:\n",
    "\n",
    "\\begin{equation}\n",
    "\\ln \\mathcal{L}=\\sum_{m=1}^{M} \\sum_{l=0}^{3} \\mathcal{I}\\left(n_{m}=l\\right) \\ln \\operatorname{Pr}\\left(n_{m}=l\\right)\n",
    "\\end{equation}"
   ]
  },
  {
   "cell_type": "markdown",
   "metadata": {},
   "source": [
    "### 2.3 Simulation"
   ]
  },
  {
   "cell_type": "code",
   "execution_count": 2,
   "metadata": {},
   "outputs": [],
   "source": [
    "import numpy as np\n",
    "from scipy.stats import norm\n",
    "import scipy as np\n",
    "from scipy.optimize import minimize"
   ]
  },
  {
   "cell_type": "code",
   "execution_count": 3,
   "metadata": {},
   "outputs": [],
   "source": [
    "m = 5000"
   ]
  },
  {
   "cell_type": "code",
   "execution_count": 68,
   "metadata": {},
   "outputs": [],
   "source": [
    "np.random.seed(678456)\n",
    "X_m = np.random.normal(loc=1.0, scale=1, size=(1,m))\n",
    "X_m = X_m.astype(np.float32)\n",
    "np.random.seed(123456)\n",
    "Z_1m = np.random.normal(loc=3.0, scale=1, size=(1,m))\n",
    "Z_1m = Z_1m.astype(np.float32)\n",
    "np.random.seed(234567)\n",
    "Z_2m = np.random.normal(loc=3.0, scale=1, size=(1,m))\n",
    "Z_2m = Z_2m.astype(np.float32)\n",
    "np.random.seed(345678)\n",
    "Z_3m = np.random.normal(loc=3.0, scale=1, size=(1,m))\n",
    "Z_3m = Z_3m.astype(np.float32)\n",
    "\n",
    "Scale = 1.0\n",
    "np.random.seed(67891011)\n",
    "e_1 = np.random.normal(loc=0.0, scale=Scale, size=(1,m))\n",
    "e_1 = e_1.astype(np.float32)\n",
    "np.random.seed(34567891)\n",
    "e_2 = np.random.normal(loc=0.0, scale=Scale, size=(1,m))\n",
    "e_2 = e_2.astype(np.float32)\n",
    "np.random.seed(12345678)\n",
    "e_3 = np.random.normal(loc=0.0, scale=Scale, size=(1,m))\n",
    "e_3 = e_3.astype(np.float32)"
   ]
  },
  {
   "cell_type": "code",
   "execution_count": 74,
   "metadata": {},
   "outputs": [],
   "source": [
    "alpha1, alpha2, alpha3, beta1, beta2, beta3, delta, Scale = 2,1,0, 2,2,1, -2, 1"
   ]
  },
  {
   "cell_type": "code",
   "execution_count": 75,
   "metadata": {},
   "outputs": [],
   "source": [
    "#Outcome Matrix\n",
    "Outcome = np.zeros([1,3*m])\n",
    "\n",
    "Profit_1m_2enter_3enter = alpha1*X_m + beta1*Z_1m + (delta*1 + delta*1) + e_1\n",
    "Profit_1m_2enter_3enter = np.maximum(Profit_1m_2enter_3enter, 0)\n",
    "Profit_1m_2enter_3notenter = alpha1*X_m + beta1*Z_1m + delta*1 + e_1\n",
    "Profit_1m_2enter_3notenter = np.maximum(Profit_1m_2enter_3notenter, 0)\n",
    "Profit_1m_2notenter_3enter = alpha1*X_m + beta1*Z_1m + delta*1 + e_1\n",
    "Profit_1m_2notenter_3enter = np.maximum(Profit_1m_2notenter_3enter, 0)\n",
    "Profit_1m_2notenter_3notenter = alpha1*X_m + beta1*Z_1m + e_1\n",
    "Profit_1m_2notenter_3notenter = np.maximum(Profit_1m_2notenter_3notenter, 0)\n",
    "\n",
    "Profit_2m_1enter_3enter = alpha2*X_m + beta2*Z_2m + (delta*1 + delta*1) + e_2\n",
    "Profit_2m_1enter_3enter = np.maximum(Profit_2m_1enter_3enter, 0)\n",
    "Profit_2m_1enter_3notenter = alpha2*X_m + beta2*Z_2m + delta*1 + e_2\n",
    "Profit_2m_1enter_3notenter = np.maximum(Profit_2m_1enter_3notenter, 0)\n",
    "Profit_2m_1notenter_3enter = alpha2*X_m + beta2*Z_2m + delta*1 + e_2\n",
    "Profit_2m_1notenter_3enter = np.maximum(Profit_2m_1notenter_3enter, 0)\n",
    "Profit_2m_1notenter_3notenter = alpha2*X_m + beta2*Z_2m + e_2\n",
    "Profit_2m_1notenter_3notenter = np.maximum(Profit_2m_1notenter_3notenter, 0)\n",
    "\n",
    "Profit_3m_1enter_2enter = alpha3*X_m + beta3*Z_3m + (delta*1 + delta*1) + e_3\n",
    "Profit_3m_1enter_2enter = np.maximum(Profit_3m_1enter_2enter, 0)\n",
    "Profit_3m_1enter_2notenter = alpha3*X_m + beta3*Z_3m + delta*1 + e_3\n",
    "Profit_3m_1enter_2notenter = np.maximum(Profit_3m_1enter_2notenter, 0)\n",
    "Profit_3m_1notenter_2enter = alpha3*X_m + beta3*Z_3m + delta*1 + e_3\n",
    "Profit_3m_1notenter_2enter = np.maximum(Profit_3m_1notenter_2enter, 0)\n",
    "Profit_3m_1notenter_2notenter = alpha3*X_m + beta3*Z_3m + e_3\n",
    "Profit_3m_1notenter_2notenter = np.maximum(Profit_3m_1notenter_2notenter, 0)\n",
    "\n",
    "for i in range(m):\n",
    "    if (Profit_1m_2enter_3enter[0][i] == 0 and Profit_2m_1enter_3enter[0][i] == 0 and Profit_3m_1enter_2enter[0][i] == 0):\n",
    "        Outcome[0,3*i] = 0\n",
    "        Outcome[0,3*i+1] = 0\n",
    "        Outcome[0,3*i+2] = 0\n",
    "    elif (Profit_1m_2enter_3enter[0][i] > 0 and Profit_2m_1enter_3enter[0][i] > 0 and Profit_3m_1enter_2enter[0][i] == 0):\n",
    "        Outcome[0,3*i] = 1\n",
    "        Outcome[0,3*i+1] = 1\n",
    "        Outcome[0,3*i+2] = 0        \n",
    "    elif (Profit_1m_2enter_3enter[0][i] > 0 and Profit_2m_1enter_3enter[0][i] == 0 and Profit_3m_1enter_2enter[0][i] > 0):\n",
    "        Outcome[0,3*i] = 1\n",
    "        Outcome[0,3*i+1] = 0\n",
    "        Outcome[0,3*i+2] = 1\n",
    "    elif (Profit_1m_2enter_3enter[0][i] > 0 and Profit_2m_1enter_3enter[0][i] > 0 and Profit_3m_1enter_2enter[0][i] > 0):\n",
    "        Outcome[0,3*i] = 1\n",
    "        Outcome[0,3*i+1] = 1\n",
    "        Outcome[0,3*i+2] = 1\n",
    "    elif (Profit_1m_2enter_3enter[0][i] == 0 and Profit_2m_1enter_3enter[0][i] > 0 and Profit_3m_1enter_2enter[0][i] == 0):\n",
    "        Outcome[0,3*i] = 0\n",
    "        Outcome[0,3*i+1] = 1\n",
    "        Outcome[0,3*i+2] = 0\n",
    "    elif (Profit_1m_2enter_3enter[0][i] == 0 and Profit_2m_1enter_3enter[0][i] > 0 and Profit_3m_1enter_2enter[0][i] > 0):\n",
    "        Outcome[0,3*i] = 0\n",
    "        Outcome[0,3*i+1] = 1\n",
    "        Outcome[0,3*i+2] = 1\n",
    "    elif (Profit_1m_2enter_3enter[0][i] > 0 and Profit_2m_1enter_3enter[0][i] == 0 and Profit_3m_1enter_2enter[0][i] == 0):\n",
    "        Outcome[0,3*i] = 1\n",
    "        Outcome[0,3*i+1] = 0\n",
    "        Outcome[0,3*i+2] = 0 \n",
    "    elif (Profit_1m_2enter_3enter[0][i] == 0 and Profit_2m_1enter_3enter[0][i] == 0 and Profit_3m_1enter_2enter[0][i] > 0):\n",
    "        Outcome[0,3*i] = 0\n",
    "        Outcome[0,3*i+1] = 0\n",
    "        Outcome[0,3*i+2] = 1\n",
    "    else:\n",
    "        Outcome[0,3*i] = np.nan\n",
    "        Outcome[0,3*i+1] = np.nan\n",
    "        Outcome[0,3*i+2] = np.nan"
   ]
  },
  {
   "cell_type": "code",
   "execution_count": 76,
   "metadata": {},
   "outputs": [],
   "source": [
    "Outcome_1 = Outcome.reshape([m,3])\n",
    "np.savetxt(\"/Users/Documents/MicroEconometrics/Hw3/Outcome.txt\", Outcome_1,fmt='%f',delimiter=',')"
   ]
  },
  {
   "cell_type": "code",
   "execution_count": 77,
   "metadata": {},
   "outputs": [],
   "source": [
    "outcome = np.sum(Outcome_1, axis = 1)\n",
    "np.savetxt(\"/Users/Documents/MicroEconometrics/Hw3/OOutcome.txt\", outcome, fmt='%f', delimiter=',')"
   ]
  },
  {
   "cell_type": "code",
   "execution_count": null,
   "metadata": {},
   "outputs": [],
   "source": []
  },
  {
   "cell_type": "markdown",
   "metadata": {},
   "source": [
    "### 2.4 Estimating Payoff Function"
   ]
  },
  {
   "cell_type": "code",
   "execution_count": 13,
   "metadata": {},
   "outputs": [],
   "source": [
    "def Probability(alpha1, alpha2, alpha3, beta1, beta2, beta3, delta, Scale):\n",
    "    probability = np.zeros([1,m])\n",
    "    #probability = probability.astype(np.float32)\n",
    "    #dist = tfp.distributions.Normal(loc=0., scale=3.)\n",
    "    Profit_1m_2enters = alpha1*X_m + beta1*Z_1m + 2*delta + e_1\n",
    "    Profit_1m_1enter = alpha1*X_m + beta1*Z_1m + delta + e_1\n",
    "    Profit_1m_notenter = alpha1*X_m + beta1*Z_1m + e_1\n",
    "\n",
    "    Profit_2m_2enters = alpha2*X_m + beta2*Z_2m + 2*delta + e_2\n",
    "    Profit_2m_1enter = alpha2*X_m + beta2*Z_2m + delta + e_2\n",
    "    Profit_2m_notenter = alpha2*X_m + beta2*Z_2m + e_2\n",
    "\n",
    "    Profit_3m_2enters = alpha3*X_m + beta3*Z_3m + 2*delta + e_3\n",
    "    Profit_3m_1enter = alpha3*X_m + beta3*Z_3m + delta + e_3\n",
    "    Profit_3m_notenter = alpha3*X_m + beta3*Z_3m + e_3\n",
    "\n",
    "\n",
    "    for i in range(m):\n",
    "        if (int(Outcome_1[i,0]) == 1 and int(Outcome_1[i,1]) == 1 and int(Outcome_1[i,2]) == 1):\n",
    "            probability[0,i] = norm.cdf(Profit_1m_2enters[0][i]/Scale) * norm.cdf(Profit_2m_2enters[0][i]/Scale) * norm.cdf(Profit_3m_2enters[0][i]/Scale)\n",
    "                                     \n",
    "        elif (int(Outcome_1[i,0]) == 1 and int(Outcome_1[i,1]) == 1 and int(Outcome_1[i,2]) == 0):\n",
    "            probability[0,i] = norm.cdf(Profit_1m_1enter[0][i]/Scale) * norm.cdf(Profit_2m_1enter[0][i]/Scale) * (1 - norm.cdf(Profit_3m_2enters[0][i]/Scale))\n",
    "        elif (int(Outcome_1[i,0]) == 1 and int(Outcome_1[i,1]) == 0 and int(Outcome_1[i,2]) == 1):\n",
    "            probability[0,i] = norm.cdf(Profit_1m_1enter[0][i]/Scale) * (1 - norm.cdf(Profit_2m_2enters[0][i]/Scale)) * norm.cdf(Profit_3m_1enter[0][i]/Scale)\n",
    "                               \n",
    "        elif (int(Outcome_1[i,0]) == 1 and int(Outcome_1[i,1]) == 0 and int(Outcome_1[i,2]) == 0):\n",
    "            probability[0,i] = norm.cdf(Profit_1m_notenter[0][i]/Scale) * (1 - norm.cdf(Profit_2m_1enter[0][i]/Scale)) * (1 - norm.cdf(Profit_3m_1enter[0][i]/Scale))\n",
    "        elif (int(Outcome_1[i,0]) == 0 and int(Outcome_1[i,1]) == 1 and int(Outcome_1[i,2]) == 1):\n",
    "            probability[0,i] = (1 - norm.cdf(Profit_1m_2enters[0][i]/Scale)) * norm.cdf(Profit_2m_1enter[0][i]/Scale) * norm.cdf(Profit_3m_1enter[0][i]/Scale)\n",
    "\n",
    "        elif (int(Outcome_1[i,0]) == 0 and int(Outcome_1[i,1]) == 1 and int(Outcome_1[i,2]) == 0):\n",
    "            probability[0,i] = (1 - norm.cdf(Profit_1m_1enter[0][i]/Scale)) * norm.cdf(Profit_2m_notenter[0][i]/Scale) * (1 - norm.cdf(Profit_3m_1enter[0][i]/Scale))\n",
    "        elif (int(Outcome_1[i,0]) == 0 and int(Outcome_1[i,1]) == 0 and int(Outcome_1[i,2]) == 1):\n",
    "            probability[0,i] = (1 - norm.cdf(Profit_1m_1enter[0][i]/Scale)) * (1 - norm.cdf(Profit_2m_1enter[0][i]/Scale)) * norm.cdf(Profit_3m_notenter[0][i]/Scale)\n",
    "                                       \n",
    "        elif (int(Outcome_1[i,0] == 0) and int(Outcome_1[i,1]) == 0 and int(Outcome_1[i,2]) == 0):\n",
    "            probability[0,i] = (1 - norm.cdf(Profit_1m_notenter[0][i]/Scale)) * (1 - norm.cdf(Profit_2m_notenter[0][i]/Scale)) * (1 - norm.cdf(Profit_3m_notenter[0][i]/Scale))\n",
    "    #PRobability = tf.constant(probability)\n",
    "    return probability"
   ]
  },
  {
   "cell_type": "code",
   "execution_count": 14,
   "metadata": {},
   "outputs": [],
   "source": [
    "def MLE(x):\n",
    "    return -np.sum(np.log(Probability(x[0], x[1], x[2], x[3], x[4], x[5], x[6], x[7])))"
   ]
  },
  {
   "cell_type": "code",
   "execution_count": 80,
   "metadata": {},
   "outputs": [
    {
     "name": "stdout",
     "output_type": "stream",
     "text": [
      "Optimization terminated successfully.\n",
      "         Current function value: 2998.618478\n",
      "         Iterations: 747\n",
      "         Function evaluations: 1094\n"
     ]
    }
   ],
   "source": [
    "x0 = np.array([2,1,0, 2,2,1, -2, 1])\n",
    "res = minimize(MLE, x0, method='nelder-mead', options={'xtol': 1e-3, 'disp': True})"
   ]
  },
  {
   "cell_type": "code",
   "execution_count": 81,
   "metadata": {},
   "outputs": [
    {
     "name": "stdout",
     "output_type": "stream",
     "text": [
      "[ 1.84767614  0.88428146  0.08938407  1.09808428  1.11875927  0.45021849\n",
      " -1.29475127  0.9586243 ]\n"
     ]
    }
   ],
   "source": [
    "print(res.x)"
   ]
  },
  {
   "cell_type": "markdown",
   "metadata": {},
   "source": [
    "### 2.5 Results\n",
    "| Variable | Estimated Value |\n",
    "|:--------:|:---------------:|\n",
    "|  alpha1  |    1.84767614   |\n",
    "|  alpha2  |    0.88428146   |\n",
    "|  alpha3  |    0.08938407   |\n",
    "|   beta1  |    1.09808428   |\n",
    "|   beta2  |    1.11875927   |\n",
    "|   beta3  |    0.45021849   |\n",
    "|  delta  |    -1.29475127   |\n",
    "|   Scale  |    0.9586243    |"
   ]
  },
  {
   "cell_type": "markdown",
   "metadata": {},
   "source": [
    "## 3. References"
   ]
  },
  {
   "cell_type": "markdown",
   "metadata": {},
   "source": [
    "[1] Ellickson, P. B. and Misra, S. (2011) ‘Estimating Discrete Games’, Marketing Science, 30(6), pp. 997–1010.\n",
    "\n",
    "[2] Zhaokun Zhang, Zhesheng Zheng. (2019) ‘Estimation of Discrete Game and its Realization in R‘\n",
    "\n",
    "[3] Jiaming Mao, ’Classiﬁcation and Discrete Choice’, https://jiamingmao.github.io/data-analysis/assets/Lectures/Classiﬁcation_and_Discrete_Choice_Models.pdf\n",
    "\n",
    "[4] Timothy F. Bresnahan and Peter C. Reiss (1990) ‘Entry in Monopoly Markets’, The Review of Economic Studies, 57(4), p. 531.\n",
    "\n",
    "[5] Timothy F. Bresnahan and Peter C. Reiss (1991) ‘Entry and Competition in Concentrated Markets’, Journal of Political Economy, 99(5), p. 977."
   ]
  }
 ],
 "metadata": {
  "kernelspec": {
   "display_name": "Python 3",
   "language": "python",
   "name": "python3"
  },
  "language_info": {
   "codemirror_mode": {
    "name": "ipython",
    "version": 3
   },
   "file_extension": ".py",
   "mimetype": "text/x-python",
   "name": "python",
   "nbconvert_exporter": "python",
   "pygments_lexer": "ipython3",
   "version": "3.6.4"
  }
 },
 "nbformat": 4,
 "nbformat_minor": 2
}
